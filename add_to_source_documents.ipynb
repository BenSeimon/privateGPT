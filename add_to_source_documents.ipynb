{
 "cells": [
  {
   "cell_type": "markdown",
   "metadata": {},
   "source": [
    "# Setup"
   ]
  },
  {
   "cell_type": "code",
   "execution_count": 1,
   "metadata": {},
   "outputs": [],
   "source": [
    "import pandas as pd\n",
    "import os\n",
    "import shutil"
   ]
  },
  {
   "cell_type": "code",
   "execution_count": 2,
   "metadata": {},
   "outputs": [],
   "source": [
    "#set paths\n",
    "code_path = '/Users/benseimon/Dropbox/IMF_fragility/01_code/'\n",
    "data_path = '/Users/benseimon/Dropbox/IMF_fragility/02_data/'"
   ]
  },
  {
   "cell_type": "markdown",
   "metadata": {},
   "source": [
    "# Load and select from article 4 staff reports and letters of intent"
   ]
  },
  {
   "cell_type": "code",
   "execution_count": 3,
   "metadata": {},
   "outputs": [],
   "source": [
    "#load metadata files\n",
    "\n",
    "article_4_staff_reports_metadata = pd.read_csv(code_path + 'article_4_staff_reports_scraper/article_4_staff_reports_amended.csv')\n",
    "letters_of_intent_metadata = pd.read_csv(code_path + 'letters_of_intent_scraper_post_2005/letters_of_intent.csv')"
   ]
  },
  {
   "cell_type": "code",
   "execution_count": 4,
   "metadata": {},
   "outputs": [],
   "source": [
    "#convert publication_date to datetime\n",
    "article_4_staff_reports_metadata['publication_date'] = pd.to_datetime(article_4_staff_reports_metadata['publication_date'], format = 'mixed')\n",
    "#get year\n",
    "article_4_staff_reports_metadata['publication_year'] = [x.year for x in article_4_staff_reports_metadata['publication_date']]"
   ]
  },
  {
   "cell_type": "code",
   "execution_count": 5,
   "metadata": {},
   "outputs": [
    {
     "name": "stdout",
     "output_type": "stream",
     "text": [
      "1216\n",
      "41\n"
     ]
    }
   ],
   "source": [
    "#note that article 4 reports from 2003 and before are scanned - so I am going to ignore these for now\n",
    "\n",
    "cond1 = (article_4_staff_reports_metadata['filename'].notna())\n",
    "cond2 = (article_4_staff_reports_metadata['publication_year'] >= 2004)\n",
    "article_4_staff_reports_digital = article_4_staff_reports_metadata[cond1 & cond2]['filename'].tolist()\n",
    "article_4_staff_reports_scanned = article_4_staff_reports_metadata[cond1 & ~cond2]['filename'].tolist()\n",
    "\n",
    "print(len(article_4_staff_reports_digital))\n",
    "print(len(article_4_staff_reports_scanned))\n",
    "\n",
    "#add data path to filenames\n",
    "article_4_staff_reports_digital = [os.path.join(data_path + 'article_4_staff_reports/', x) for x in article_4_staff_reports_digital]\n",
    "article_4_staff_reports_scanned = [os.path.join(data_path + 'article_4_staff_reports/', x) for x in article_4_staff_reports_scanned]"
   ]
  },
  {
   "cell_type": "code",
   "execution_count": 6,
   "metadata": {},
   "outputs": [],
   "source": [
    "#letters of intent are all digital pdfs\n",
    "cond1 = (letters_of_intent_metadata['filename'].notna())\n",
    "letters_of_intent_digital = letters_of_intent_metadata[cond1]['filename'].tolist()\n",
    "letters_of_intent_digital = [os.path.join(data_path + 'letters_of_intent_post_2005/', x) for x in letters_of_intent_digital]"
   ]
  },
  {
   "cell_type": "markdown",
   "metadata": {},
   "source": [
    "# Select files for analysis in source documents"
   ]
  },
  {
   "cell_type": "code",
   "execution_count": 7,
   "metadata": {},
   "outputs": [],
   "source": [
    "dest = code_path + 'query_pdfs/privateGPT/source_documents/'\n",
    "selected_pdfs = letters_of_intent_digital #manually removed Central African Republic_2016_07_07.pdf\n",
    "\n",
    "#see if source documents folder exists - if it does delete it and make a new empty folder\n",
    "if os.path.exists(dest):\n",
    "    shutil.rmtree(dest)\n",
    "    os.mkdir(dest)\n",
    "\n",
    "for file in selected_pdfs:\n",
    "    shutil.copy(file, dest)"
   ]
  }
 ],
 "metadata": {
  "kernelspec": {
   "display_name": "query_pdfs-CDDhHuu8",
   "language": "python",
   "name": "python3"
  },
  "language_info": {
   "codemirror_mode": {
    "name": "ipython",
    "version": 3
   },
   "file_extension": ".py",
   "mimetype": "text/x-python",
   "name": "python",
   "nbconvert_exporter": "python",
   "pygments_lexer": "ipython3",
   "version": "3.11.2"
  },
  "orig_nbformat": 4
 },
 "nbformat": 4,
 "nbformat_minor": 2
}
